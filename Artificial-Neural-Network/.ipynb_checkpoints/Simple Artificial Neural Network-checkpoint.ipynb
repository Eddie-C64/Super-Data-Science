{
 "cells": [
  {
   "cell_type": "markdown",
   "metadata": {},
   "source": [
    "# Intro to Artificial Neural Networks with Keras\n",
    "In this notebook I create a ANN with keras, a deep learning library that uses Theano in the backend. The Goals of this notebook.\n",
    "1. Work with keras and show how simple it is create a neural network.\n",
    "2. Predict the output of the data of ** *Churn_Modelling.csv** bank data.\n",
    "3. Make sure the ann is efficent and fast to run."
   ]
  },
  {
   "cell_type": "code",
   "execution_count": 1,
   "metadata": {},
   "outputs": [
    {
     "name": "stderr",
     "output_type": "stream",
     "text": [
      "Using TensorFlow backend.\n"
     ]
    }
   ],
   "source": [
    "# Import the nessecary libraries\n",
    "from pandas import read_csv\n",
    "import numpy as np\n",
    "\n",
    "from keras.models import Sequential\n",
    "from keras.layers import Dense\n",
    "\n",
    "from sklearn.preprocessing import LabelEncoder, OneHotEncoder, StandardScaler\n",
    "from sklearn.model_selection import train_test_split\n",
    "from sklearn.metrics import confusion_matrix"
   ]
  },
  {
   "cell_type": "markdown",
   "metadata": {},
   "source": [
    "# Step 1 - Pre-processing the data\n",
    "We will clean and sort the data by HotEncoding, LabelEcoding, and StandardScaling."
   ]
  },
  {
   "cell_type": "code",
   "execution_count": 2,
   "metadata": {
    "collapsed": true
   },
   "outputs": [],
   "source": [
    "data_set = read_csv('Churn_Modelling.csv') # import the data\n",
    "X = data_set.iloc[:, 3:13].values  # This was the nessecasry data need to make a prediction\n",
    "y = data_set.iloc[:, 13].values"
   ]
  },
  {
   "cell_type": "markdown",
   "metadata": {},
   "source": [
    "Now we will Apply Encode the data by category and Label encoding"
   ]
  },
  {
   "cell_type": "code",
   "execution_count": 3,
   "metadata": {
    "collapsed": true
   },
   "outputs": [],
   "source": [
    "# Encoding categorical data\n",
    "label_encoder_X_1 = LabelEncoder()\n",
    "X[:, 1] = label_encoder_X_1.fit_transform(X[:, 1])  # Replace Strings of Location by Number value\n",
    "\n",
    "label_encoder_X_2 = LabelEncoder()\n",
    "X[:, 2] = label_encoder_X_2.fit_transform(X[:, 2])\n",
    "\n",
    "one_hot_encoder = OneHotEncoder(categorical_features=[1])  # replace label of male female to 0 or 1\n",
    "X = one_hot_encoder.fit_transform(X).toarray()\n",
    "X = X[:, 1:]  # Remove the first column which is the dummy variable\n"
   ]
  },
  {
   "cell_type": "markdown",
   "metadata": {},
   "source": [
    "Next step we shall scale the data and split it into a training and test set."
   ]
  },
  {
   "cell_type": "code",
   "execution_count": 4,
   "metadata": {
    "collapsed": true
   },
   "outputs": [],
   "source": [
    "# Splitting the dataset into the Training set and Test set\n",
    "X_train, X_test, y_train, y_test = train_test_split(X, y, test_size=0.2, random_state=0)\n",
    "\n",
    "# Feature Scaling\n",
    "sc = StandardScaler()\n",
    "X_train = sc.fit_transform(X_train)\n",
    "X_test = sc.transform(X_test)"
   ]
  },
  {
   "cell_type": "markdown",
   "metadata": {},
   "source": [
    "# Part 2 - Building the ANN's Architecture\n",
    "Thanks to Keras, there isn't too much coding besides declaring a NN type, create the layers, and compile the NN."
   ]
  },
  {
   "cell_type": "code",
   "execution_count": 5,
   "metadata": {},
   "outputs": [],
   "source": [
    "# Now let's make the ANN!\n",
    "artificial_neural_network_classifier = Sequential()  # Initialising the ANN\n",
    "\n",
    "# Adding the input layer and the first hidden layer\n",
    "artificial_neural_network_classifier.add(Dense(units=6, kernel_initializer='uniform', activation='relu', input_dim=11))\n",
    "\n",
    "# Adding the second hidden layer\n",
    "artificial_neural_network_classifier.add(Dense(units=6, kernel_initializer='uniform', activation='relu'))\n",
    "\n",
    "# Adding the output layer\n",
    "artificial_neural_network_classifier.add(Dense(units=1, kernel_initializer='uniform', activation='sigmoid'))\n",
    "\n",
    "# Compiling the ANN\n",
    "artificial_neural_network_classifier.compile(optimizer='adam', loss='binary_crossentropy', metrics=['accuracy'])"
   ]
  },
  {
   "cell_type": "markdown",
   "metadata": {},
   "source": [
    "# Part 3 - Training the model\n",
    "Here we shall training the model in a one simple line."
   ]
  },
  {
   "cell_type": "code",
   "execution_count": 6,
   "metadata": {},
   "outputs": [
    {
     "name": "stdout",
     "output_type": "stream",
     "text": [
      "Epoch 1/100\n",
      "8000/8000 [==============================] - 1s - loss: 0.4850 - acc: 0.7954     \n",
      "Epoch 2/100\n",
      "8000/8000 [==============================] - 1s - loss: 0.4265 - acc: 0.7960     \n",
      "Epoch 3/100\n",
      "8000/8000 [==============================] - 1s - loss: 0.4204 - acc: 0.8045     \n",
      "Epoch 4/100\n",
      "8000/8000 [==============================] - 1s - loss: 0.4164 - acc: 0.8261     \n",
      "Epoch 5/100\n",
      "8000/8000 [==============================] - 1s - loss: 0.4142 - acc: 0.8292     \n",
      "Epoch 6/100\n",
      "8000/8000 [==============================] - 1s - loss: 0.4125 - acc: 0.8311     \n",
      "Epoch 7/100\n",
      "8000/8000 [==============================] - 1s - loss: 0.4110 - acc: 0.8326     \n",
      "Epoch 8/100\n",
      "8000/8000 [==============================] - 1s - loss: 0.4097 - acc: 0.8330     \n",
      "Epoch 9/100\n",
      "8000/8000 [==============================] - 1s - loss: 0.4088 - acc: 0.8346     \n",
      "Epoch 10/100\n",
      "8000/8000 [==============================] - 1s - loss: 0.4077 - acc: 0.8346     \n",
      "Epoch 11/100\n",
      "8000/8000 [==============================] - 1s - loss: 0.4072 - acc: 0.8352     \n",
      "Epoch 12/100\n",
      "8000/8000 [==============================] - 1s - loss: 0.4064 - acc: 0.8345     \n",
      "Epoch 13/100\n",
      "8000/8000 [==============================] - 1s - loss: 0.4061 - acc: 0.8356     \n",
      "Epoch 14/100\n",
      "8000/8000 [==============================] - 1s - loss: 0.4055 - acc: 0.8355     \n",
      "Epoch 15/100\n",
      "8000/8000 [==============================] - 1s - loss: 0.4049 - acc: 0.8356     \n",
      "Epoch 16/100\n",
      "8000/8000 [==============================] - 1s - loss: 0.4043 - acc: 0.8360     \n",
      "Epoch 17/100\n",
      "8000/8000 [==============================] - 1s - loss: 0.4042 - acc: 0.8366     \n",
      "Epoch 18/100\n",
      "8000/8000 [==============================] - 1s - loss: 0.4036 - acc: 0.8350     \n",
      "Epoch 19/100\n",
      "8000/8000 [==============================] - 1s - loss: 0.4034 - acc: 0.8349     \n",
      "Epoch 20/100\n",
      "8000/8000 [==============================] - 1s - loss: 0.4026 - acc: 0.8360     \n",
      "Epoch 21/100\n",
      "8000/8000 [==============================] - 1s - loss: 0.4023 - acc: 0.8365     \n",
      "Epoch 22/100\n",
      "8000/8000 [==============================] - 1s - loss: 0.4025 - acc: 0.8354     \n",
      "Epoch 23/100\n",
      "8000/8000 [==============================] - 1s - loss: 0.4024 - acc: 0.8360     \n",
      "Epoch 24/100\n",
      "8000/8000 [==============================] - 1s - loss: 0.4019 - acc: 0.8349     \n",
      "Epoch 25/100\n",
      "8000/8000 [==============================] - 1s - loss: 0.4017 - acc: 0.8360     \n",
      "Epoch 26/100\n",
      "8000/8000 [==============================] - 1s - loss: 0.4018 - acc: 0.8349     \n",
      "Epoch 27/100\n",
      "8000/8000 [==============================] - 1s - loss: 0.4014 - acc: 0.8346     \n",
      "Epoch 28/100\n",
      "8000/8000 [==============================] - 1s - loss: 0.4010 - acc: 0.8380     \n",
      "Epoch 29/100\n",
      "8000/8000 [==============================] - 1s - loss: 0.4008 - acc: 0.8352     \n",
      "Epoch 30/100\n",
      "8000/8000 [==============================] - 1s - loss: 0.4007 - acc: 0.8351     \n",
      "Epoch 31/100\n",
      "8000/8000 [==============================] - 1s - loss: 0.4008 - acc: 0.8360     \n",
      "Epoch 32/100\n",
      "8000/8000 [==============================] - 1s - loss: 0.4009 - acc: 0.8351     \n",
      "Epoch 33/100\n",
      "8000/8000 [==============================] - 1s - loss: 0.4009 - acc: 0.8357     \n",
      "Epoch 34/100\n",
      "8000/8000 [==============================] - 1s - loss: 0.4002 - acc: 0.8360     \n",
      "Epoch 35/100\n",
      "8000/8000 [==============================] - 1s - loss: 0.4002 - acc: 0.8372     \n",
      "Epoch 36/100\n",
      "8000/8000 [==============================] - 1s - loss: 0.4004 - acc: 0.8359     \n",
      "Epoch 37/100\n",
      "8000/8000 [==============================] - 1s - loss: 0.4006 - acc: 0.8369     \n",
      "Epoch 38/100\n",
      "8000/8000 [==============================] - 1s - loss: 0.4003 - acc: 0.8359     \n",
      "Epoch 39/100\n",
      "8000/8000 [==============================] - 1s - loss: 0.3998 - acc: 0.8364     \n",
      "Epoch 40/100\n",
      "8000/8000 [==============================] - 1s - loss: 0.3999 - acc: 0.8371     \n",
      "Epoch 41/100\n",
      "8000/8000 [==============================] - 1s - loss: 0.4000 - acc: 0.8339     \n",
      "Epoch 42/100\n",
      "8000/8000 [==============================] - 1s - loss: 0.3996 - acc: 0.8371     \n",
      "Epoch 43/100\n",
      "8000/8000 [==============================] - 1s - loss: 0.3998 - acc: 0.8347     \n",
      "Epoch 44/100\n",
      "8000/8000 [==============================] - 1s - loss: 0.4001 - acc: 0.8356     \n",
      "Epoch 45/100\n",
      "8000/8000 [==============================] - 1s - loss: 0.4001 - acc: 0.8364     \n",
      "Epoch 46/100\n",
      "8000/8000 [==============================] - 1s - loss: 0.3995 - acc: 0.8359     \n",
      "Epoch 47/100\n",
      "8000/8000 [==============================] - 1s - loss: 0.4001 - acc: 0.8365     \n",
      "Epoch 48/100\n",
      "8000/8000 [==============================] - 1s - loss: 0.3997 - acc: 0.8364     \n",
      "Epoch 49/100\n",
      "8000/8000 [==============================] - 1s - loss: 0.3994 - acc: 0.8366     \n",
      "Epoch 50/100\n",
      "8000/8000 [==============================] - 1s - loss: 0.3997 - acc: 0.8369     \n",
      "Epoch 51/100\n",
      "8000/8000 [==============================] - 1s - loss: 0.3990 - acc: 0.8355     \n",
      "Epoch 52/100\n",
      "8000/8000 [==============================] - 1s - loss: 0.3993 - acc: 0.8376     \n",
      "Epoch 53/100\n",
      "8000/8000 [==============================] - 1s - loss: 0.3997 - acc: 0.8365     \n",
      "Epoch 54/100\n",
      "8000/8000 [==============================] - 1s - loss: 0.3994 - acc: 0.8362     \n",
      "Epoch 55/100\n",
      "8000/8000 [==============================] - 1s - loss: 0.3995 - acc: 0.8379     \n",
      "Epoch 56/100\n",
      "8000/8000 [==============================] - 1s - loss: 0.3993 - acc: 0.8359     \n",
      "Epoch 57/100\n",
      "8000/8000 [==============================] - 1s - loss: 0.3993 - acc: 0.8365     \n",
      "Epoch 58/100\n",
      "8000/8000 [==============================] - 1s - loss: 0.3997 - acc: 0.8357     \n",
      "Epoch 59/100\n",
      "8000/8000 [==============================] - 1s - loss: 0.3991 - acc: 0.8372     \n",
      "Epoch 60/100\n",
      "8000/8000 [==============================] - 1s - loss: 0.3994 - acc: 0.8372     \n",
      "Epoch 61/100\n",
      "8000/8000 [==============================] - 1s - loss: 0.3992 - acc: 0.8376     \n",
      "Epoch 62/100\n",
      "8000/8000 [==============================] - 1s - loss: 0.3990 - acc: 0.8357     \n",
      "Epoch 63/100\n",
      "8000/8000 [==============================] - 2s - loss: 0.3990 - acc: 0.8352     \n",
      "Epoch 64/100\n",
      "8000/8000 [==============================] - 2s - loss: 0.3993 - acc: 0.8367     \n",
      "Epoch 65/100\n",
      "8000/8000 [==============================] - 2s - loss: 0.3992 - acc: 0.8364     \n",
      "Epoch 66/100\n",
      "8000/8000 [==============================] - 2s - loss: 0.3987 - acc: 0.8360     \n",
      "Epoch 67/100\n",
      "8000/8000 [==============================] - 2s - loss: 0.3987 - acc: 0.8350     \n",
      "Epoch 68/100\n",
      "8000/8000 [==============================] - 2s - loss: 0.3990 - acc: 0.8374     \n",
      "Epoch 69/100\n",
      "8000/8000 [==============================] - 2s - loss: 0.3988 - acc: 0.8355     \n",
      "Epoch 70/100\n",
      "8000/8000 [==============================] - 2s - loss: 0.3987 - acc: 0.8370     \n",
      "Epoch 71/100\n",
      "8000/8000 [==============================] - 2s - loss: 0.3988 - acc: 0.8376     \n",
      "Epoch 72/100\n",
      "8000/8000 [==============================] - 2s - loss: 0.3987 - acc: 0.8355     \n",
      "Epoch 73/100\n",
      "8000/8000 [==============================] - 2s - loss: 0.3983 - acc: 0.8361     \n",
      "Epoch 74/100\n",
      "8000/8000 [==============================] - 2s - loss: 0.3989 - acc: 0.8365     \n",
      "Epoch 75/100\n",
      "8000/8000 [==============================] - 2s - loss: 0.3979 - acc: 0.8335     \n",
      "Epoch 76/100\n",
      "8000/8000 [==============================] - 2s - loss: 0.3988 - acc: 0.8356     \n",
      "Epoch 77/100\n",
      "8000/8000 [==============================] - 2s - loss: 0.3984 - acc: 0.8377     \n",
      "Epoch 78/100\n",
      "8000/8000 [==============================] - 2s - loss: 0.3990 - acc: 0.8384     \n",
      "Epoch 79/100\n",
      "8000/8000 [==============================] - 2s - loss: 0.3986 - acc: 0.8356     \n",
      "Epoch 80/100\n",
      "8000/8000 [==============================] - 2s - loss: 0.3988 - acc: 0.8359     \n",
      "Epoch 81/100\n",
      "8000/8000 [==============================] - 2s - loss: 0.3987 - acc: 0.8356     \n",
      "Epoch 82/100\n",
      "8000/8000 [==============================] - 1s - loss: 0.3985 - acc: 0.8364     \n",
      "Epoch 83/100\n",
      "8000/8000 [==============================] - 1s - loss: 0.3986 - acc: 0.8360     \n",
      "Epoch 84/100\n",
      "8000/8000 [==============================] - 2s - loss: 0.3987 - acc: 0.8362     \n",
      "Epoch 85/100\n",
      "8000/8000 [==============================] - 2s - loss: 0.3983 - acc: 0.8352     \n",
      "Epoch 86/100\n",
      "8000/8000 [==============================] - 1s - loss: 0.3985 - acc: 0.8365     \n",
      "Epoch 87/100\n"
     ]
    },
    {
     "name": "stdout",
     "output_type": "stream",
     "text": [
      "8000/8000 [==============================] - 1s - loss: 0.3984 - acc: 0.8375     \n",
      "Epoch 88/100\n",
      "8000/8000 [==============================] - 1s - loss: 0.3983 - acc: 0.8365     \n",
      "Epoch 89/100\n",
      "8000/8000 [==============================] - 1s - loss: 0.3979 - acc: 0.8361     \n",
      "Epoch 90/100\n",
      "8000/8000 [==============================] - 1s - loss: 0.3984 - acc: 0.8354     \n",
      "Epoch 91/100\n",
      "8000/8000 [==============================] - 1s - loss: 0.3983 - acc: 0.8362     \n",
      "Epoch 92/100\n",
      "8000/8000 [==============================] - 1s - loss: 0.3975 - acc: 0.8357     \n",
      "Epoch 93/100\n",
      "8000/8000 [==============================] - 1s - loss: 0.3984 - acc: 0.8357     \n",
      "Epoch 94/100\n",
      "8000/8000 [==============================] - 1s - loss: 0.3981 - acc: 0.8350     \n",
      "Epoch 95/100\n",
      "8000/8000 [==============================] - 1s - loss: 0.3981 - acc: 0.8352     \n",
      "Epoch 96/100\n",
      "8000/8000 [==============================] - 1s - loss: 0.3981 - acc: 0.8362     \n",
      "Epoch 97/100\n",
      "8000/8000 [==============================] - 1s - loss: 0.3980 - acc: 0.8376     \n",
      "Epoch 98/100\n",
      "8000/8000 [==============================] - 1s - loss: 0.3984 - acc: 0.8360     \n",
      "Epoch 99/100\n",
      "8000/8000 [==============================] - 1s - loss: 0.3978 - acc: 0.8371     \n",
      "Epoch 100/100\n",
      "8000/8000 [==============================] - 1s - loss: 0.3982 - acc: 0.8382     \n"
     ]
    },
    {
     "data": {
      "text/plain": [
       "<keras.callbacks.History at 0x11a991790>"
      ]
     },
     "execution_count": 6,
     "metadata": {},
     "output_type": "execute_result"
    }
   ],
   "source": [
    "# Fitting the ANN to the Training set\n",
    "artificial_neural_network_classifier.fit(X_train, y_train, batch_size=10, epochs=100)  # Number of Epochs is the\n",
    "                                                                                       # number of training iterations"
   ]
  },
  {
   "cell_type": "markdown",
   "metadata": {},
   "source": [
    "# Part 4 - Evaluating the model\n",
    "As the title of this section suggests we will evaluate the model's preformance. "
   ]
  },
  {
   "cell_type": "code",
   "execution_count": 19,
   "metadata": {},
   "outputs": [
    {
     "name": "stdout",
     "output_type": "stream",
     "text": [
      "Model Prediction:\n",
      "[[False]\n",
      " [False]\n",
      " [False]\n",
      " ..., \n",
      " [False]\n",
      " [False]\n",
      " [False]]\n",
      "Confusion Matrix\n",
      "[[1532   63]\n",
      " [ 248  157]]\n"
     ]
    }
   ],
   "source": [
    "# Part 3 - Making predictions and evaluating the model\n",
    "y_prediction = artificial_neural_network_classifier.predict(X_test)  # Predicting the Test set results\n",
    "y_prediction = (y_prediction > 0.5)\n",
    "\n",
    "# Making the Confusion Matrix\n",
    "cm = confusion_matrix(y_test, y_prediction)\n",
    "print('Model Prediction:')\n",
    "print(y_prediction)\n",
    "print('Confusion Matrix')\n",
    "print(cm)"
   ]
  },
  {
   "cell_type": "markdown",
   "metadata": {},
   "source": [
    "# Part 5 - Make a Prediction\n",
    "Now that we have evulated the model we can make predictions from our test set."
   ]
  },
  {
   "cell_type": "code",
   "execution_count": 21,
   "metadata": {},
   "outputs": [
    {
     "name": "stdout",
     "output_type": "stream",
     "text": [
      "0.0786441\n",
      "Keep this customer by giving him positive feed back.\n"
     ]
    }
   ],
   "source": [
    "new_customer = np.array(sc.transform([[0.0, 0, 600, 1, 40, 3, 60000, 2, 1, 1, 50000]]))\n",
    "new_customer_prediction = artificial_neural_network_classifier.predict(new_customer)\n",
    "y_prediction = new_customer_prediction[0][0]\n",
    "print y_prediction\n",
    "if y_prediction >= 0.5:\n",
    "    print('Time to let go of this customer.')\n",
    "else:\n",
    "    print('Keep this customer by giving him positive feed back.')"
   ]
  },
  {
   "cell_type": "markdown",
   "metadata": {
    "collapsed": true
   },
   "source": [
    "# Conclusion:\n",
    "1. The model trains very quickly and effectively in the first turn around.\n",
    "2. The accuary of the model is 90.7%.\n",
    "3. Without creating model specific features we were able to make accurate prediction with only about 7 lines."
   ]
  },
  {
   "cell_type": "code",
   "execution_count": null,
   "metadata": {
    "collapsed": true
   },
   "outputs": [],
   "source": []
  }
 ],
 "metadata": {
  "anaconda-cloud": {},
  "kernelspec": {
   "display_name": "Python [conda root]",
   "language": "python",
   "name": "conda-root-py"
  },
  "language_info": {
   "codemirror_mode": {
    "name": "ipython",
    "version": 2
   },
   "file_extension": ".py",
   "mimetype": "text/x-python",
   "name": "python",
   "nbconvert_exporter": "python",
   "pygments_lexer": "ipython2",
   "version": "2.7.13"
  }
 },
 "nbformat": 4,
 "nbformat_minor": 2
}
